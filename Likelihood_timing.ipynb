{
 "cells": [
  {
   "cell_type": "code",
   "execution_count": 225,
   "metadata": {
    "collapsed": false
   },
   "outputs": [],
   "source": [
    "from isochrones.dartmouth import Dartmouth_Isochrone\n",
    "dar = Dartmouth_Isochrone()"
   ]
  },
  {
   "cell_type": "code",
   "execution_count": 226,
   "metadata": {
    "collapsed": true
   },
   "outputs": [],
   "source": [
    "from isochrones.utils import addmags\n",
    "import numpy as np\n",
    "M1 = 1.\n",
    "M2 = 0.7\n",
    "age = np.log10(5e9)\n",
    "feh = 0.0\n",
    "distance = 200\n",
    "AV = 0.1\n",
    "\n",
    "#Simulate true magnitudes\n",
    "unresolved_bands = ['J','H','K']\n",
    "resolved_bands = ['i']\n",
    "args = (age, feh, distance, AV)\n",
    "unresolved = {b:addmags(dar.mag[b](M1, *args), dar.mag[b](M2, *args)) for b in unresolved_bands}\n",
    "resolved_1 = {b:dar.mag['i'](M1, *args) for b in resolved_bands}\n",
    "resolved_2 = {b:dar.mag['i'](M2, *args) for b in resolved_bands}"
   ]
  },
  {
   "cell_type": "code",
   "execution_count": 227,
   "metadata": {
    "collapsed": false
   },
   "outputs": [
    {
     "data": {
      "text/html": [
       "<div>\n",
       "<table border=\"1\" class=\"dataframe\">\n",
       "  <thead>\n",
       "    <tr style=\"text-align: right;\">\n",
       "      <th></th>\n",
       "      <th>band</th>\n",
       "      <th>e_mag</th>\n",
       "      <th>mag</th>\n",
       "      <th>name</th>\n",
       "      <th>pa</th>\n",
       "      <th>relative</th>\n",
       "      <th>resolution</th>\n",
       "      <th>separation</th>\n",
       "    </tr>\n",
       "  </thead>\n",
       "  <tbody>\n",
       "    <tr>\n",
       "      <th>2</th>\n",
       "      <td>J</td>\n",
       "      <td>0.02</td>\n",
       "      <td>9.925142</td>\n",
       "      <td>twomass</td>\n",
       "      <td>0.0</td>\n",
       "      <td>False</td>\n",
       "      <td>4.0</td>\n",
       "      <td>0.0</td>\n",
       "    </tr>\n",
       "    <tr>\n",
       "      <th>4</th>\n",
       "      <td>H</td>\n",
       "      <td>0.02</td>\n",
       "      <td>9.533282</td>\n",
       "      <td>twomass</td>\n",
       "      <td>0.0</td>\n",
       "      <td>False</td>\n",
       "      <td>4.0</td>\n",
       "      <td>0.0</td>\n",
       "    </tr>\n",
       "    <tr>\n",
       "      <th>6</th>\n",
       "      <td>K</td>\n",
       "      <td>0.02</td>\n",
       "      <td>9.475713</td>\n",
       "      <td>twomass</td>\n",
       "      <td>0.0</td>\n",
       "      <td>False</td>\n",
       "      <td>4.0</td>\n",
       "      <td>0.0</td>\n",
       "    </tr>\n",
       "    <tr>\n",
       "      <th>8</th>\n",
       "      <td>i</td>\n",
       "      <td>0.10</td>\n",
       "      <td>11.028637</td>\n",
       "      <td>RAO</td>\n",
       "      <td>0.0</td>\n",
       "      <td>True</td>\n",
       "      <td>0.1</td>\n",
       "      <td>0.0</td>\n",
       "    </tr>\n",
       "    <tr>\n",
       "      <th>10</th>\n",
       "      <td>i</td>\n",
       "      <td>0.10</td>\n",
       "      <td>13.180917</td>\n",
       "      <td>RAO</td>\n",
       "      <td>100.0</td>\n",
       "      <td>True</td>\n",
       "      <td>0.1</td>\n",
       "      <td>0.5</td>\n",
       "    </tr>\n",
       "  </tbody>\n",
       "</table>\n",
       "</div>"
      ],
      "text/plain": [
       "   band  e_mag        mag     name     pa relative  resolution  separation\n",
       "2     J   0.02   9.925142  twomass    0.0    False         4.0         0.0\n",
       "4     H   0.02   9.533282  twomass    0.0    False         4.0         0.0\n",
       "6     K   0.02   9.475713  twomass    0.0    False         4.0         0.0\n",
       "8     i   0.10  11.028637      RAO    0.0     True         0.1         0.0\n",
       "10    i   0.10  13.180917      RAO  100.0     True         0.1         0.5"
      ]
     },
     "execution_count": 227,
     "metadata": {},
     "output_type": "execute_result"
    }
   ],
   "source": [
    "import pandas as pd\n",
    "\n",
    "instruments = ['twomass','RAO']\n",
    "bands = {'twomass':['J','H','K'],\n",
    "          'RAO':['i']}\n",
    "mag_unc = {'twomass': 0.02, 'RAO':0.1}\n",
    "resolution = {'twomass':4.0, 'RAO':0.1}\n",
    "relative = {'twomass':False, 'RAO':True}\n",
    "separation = 0.5\n",
    "PA = 100.\n",
    "\n",
    "columns = ['name', 'band', 'resolution', 'relative', 'separation', 'pa', 'mag', 'e_mag']\n",
    "df = pd.DataFrame(columns=columns)\n",
    "i=2\n",
    "for inst in ['twomass']:  #Unresolved observations\n",
    "    for b in bands[inst]:\n",
    "        row = {}\n",
    "        row['name'] = inst\n",
    "        row['band'] = b\n",
    "        row['resolution'] = resolution[inst]\n",
    "        row['relative'] = relative[inst]\n",
    "        row['separation'] = 0.\n",
    "        row['pa'] = 0.\n",
    "        row['mag'] = unresolved[b]\n",
    "        row['e_mag'] = mag_unc[inst]\n",
    "        df = df.append(pd.DataFrame(row, index=[i]))\n",
    "        i += 2\n",
    "\n",
    "for inst in ['RAO']:  #Resolved observations\n",
    "    for b in bands[inst]:\n",
    "        mags = [resolved_1[b], resolved_2[b]]\n",
    "        pas = [0, PA]\n",
    "        seps = [0., separation]\n",
    "        for mag,sep,pa in zip(mags,seps,pas):\n",
    "            row = {}\n",
    "            row['name'] = inst\n",
    "            row['band'] = b\n",
    "            row['resolution'] = resolution[inst]\n",
    "            row['relative'] = relative[inst]\n",
    "            row['separation'] = sep\n",
    "            row['pa'] = pa\n",
    "            row['mag'] = mag\n",
    "            row['e_mag'] = mag_unc[inst]\n",
    "            df = df.append(pd.DataFrame(row, index=[i]))\n",
    "            i += 2\n",
    "            \n",
    "df"
   ]
  },
  {
   "cell_type": "code",
   "execution_count": 228,
   "metadata": {
    "collapsed": true
   },
   "outputs": [],
   "source": [
    "from isochrones.observation import ObservationTree"
   ]
  },
  {
   "cell_type": "code",
   "execution_count": 229,
   "metadata": {
    "collapsed": false
   },
   "outputs": [
    {
     "name": "stdout",
     "output_type": "stream",
     "text": [
      "First\n",
      " ╚═ twomass H=(9.53, 0.02) @(0.00, 0 [4.00])\n",
      "    ╚═ twomass J=(9.93, 0.02) @(0.00, 0 [4.00])\n",
      "       ╚═ twomass K=(9.48, 0.02) @(0.00, 0 [4.00])\n",
      "          ╠═ RAO i=(11.03, 0.10) @(0.00, 0 [0.10])\n",
      "          ║  ╚═ 0_0\n",
      "          ╚═ RAO i=(13.18, 0.10) @(0.50, 100 [0.10])\n",
      "             ╚═ 0_1\n"
     ]
    }
   ],
   "source": [
    "t = ObservationTree.from_df(df, name='First')\n",
    "t.define_models(dar)\n",
    "t.print_ascii()"
   ]
  },
  {
   "cell_type": "code",
   "execution_count": 230,
   "metadata": {
    "collapsed": true
   },
   "outputs": [],
   "source": [
    "from isochrones.starmodel import StarModel"
   ]
  },
  {
   "cell_type": "code",
   "execution_count": 231,
   "metadata": {
    "collapsed": false
   },
   "outputs": [],
   "source": [
    "mod = StarModel(dar, obs=t)"
   ]
  },
  {
   "cell_type": "code",
   "execution_count": 232,
   "metadata": {
    "collapsed": false
   },
   "outputs": [
    {
     "name": "stdout",
     "output_type": "stream",
     "text": [
      "The slowest run took 13.60 times longer than the fastest. This could mean that an intermediate result is being cached.\n",
      "10000 loops, best of 3: 88.5 µs per loop\n"
     ]
    }
   ],
   "source": [
    "%timeit mod.lnlike(p = [1.0,1.0,10,0.0,200,0.1],use_cache=False)"
   ]
  },
  {
   "cell_type": "code",
   "execution_count": 233,
   "metadata": {
    "collapsed": false
   },
   "outputs": [
    {
     "name": "stdout",
     "output_type": "stream",
     "text": [
      "First\n",
      " ╚═ some telescopes W1=(9.45, 0.02) @(0.00, 0 [5.00])\n",
      "    ╚═ twomass H=(9.53, 0.02) @(0.00, 0 [4.00])\n",
      "       ╚═ twomass J=(9.93, 0.02) @(0.00, 0 [4.00])\n",
      "          ╚═ twomass K=(9.48, 0.02) @(0.00, 0 [4.00])\n",
      "             ╠═ RAO i=(11.03, 0.10) @(0.00, 0 [0.10])\n",
      "             ║  ╚═ 0_0\n",
      "             ╚═ RAO i=(13.18, 0.10) @(0.50, 100 [0.10])\n",
      "                ╚═ 0_1\n"
     ]
    }
   ],
   "source": [
    "mag = addmags(dar.mag['W1'](M1, *args), dar.mag['W1'](M2, *args))\n",
    "e_mag = 0.02\n",
    "              \n",
    "row = {}\n",
    "row['name'] = 'some telescopes'\n",
    "row['band'] = 'W1'\n",
    "row['resolution'] = 5.0\n",
    "row['relative'] = False\n",
    "row['separation'] = 0.\n",
    "row['pa'] = 0.\n",
    "row['mag'] = mag\n",
    "row['e_mag'] = e_mag\n",
    "df = df.append(pd.DataFrame(row, index=[0]))\n",
    "\n",
    "t = ObservationTree.from_df(df, name='First')\n",
    "t.define_models(dar)\n",
    "t.print_ascii()"
   ]
  },
  {
   "cell_type": "code",
   "execution_count": 234,
   "metadata": {
    "collapsed": false
   },
   "outputs": [],
   "source": [
    "mod = StarModel(dar, obs=t)"
   ]
  },
  {
   "cell_type": "code",
   "execution_count": 235,
   "metadata": {
    "collapsed": false
   },
   "outputs": [
    {
     "name": "stdout",
     "output_type": "stream",
     "text": [
      "The slowest run took 27.38 times longer than the fastest. This could mean that an intermediate result is being cached.\n",
      "10000 loops, best of 3: 101 µs per loop\n"
     ]
    }
   ],
   "source": [
    "%timeit mod.lnlike(p = [1.0,1.0,10,0.0,200,0.1],use_cache=False)"
   ]
  },
  {
   "cell_type": "code",
   "execution_count": 236,
   "metadata": {
    "collapsed": false
   },
   "outputs": [
    {
     "name": "stdout",
     "output_type": "stream",
     "text": [
      "First\n",
      " ╚═ some telescopes W1=(9.45, 0.02) @(0.00, 0 [5.00])\n",
      "    ╚═ some telescopes W2=(9.49, 0.02) @(0.00, 0 [5.00])\n",
      "       ╚═ twomass H=(9.53, 0.02) @(0.00, 0 [4.00])\n",
      "          ╚═ twomass J=(9.93, 0.02) @(0.00, 0 [4.00])\n",
      "             ╚═ twomass K=(9.48, 0.02) @(0.00, 0 [4.00])\n",
      "                ╠═ RAO i=(11.03, 0.10) @(0.00, 0 [0.10])\n",
      "                ║  ╚═ 0_0\n",
      "                ╚═ RAO i=(13.18, 0.10) @(0.50, 100 [0.10])\n",
      "                   ╚═ 0_1\n"
     ]
    }
   ],
   "source": [
    "mag = addmags(dar.mag['W2'](M1, *args), dar.mag['W2'](M2, *args))\n",
    "e_mag = 0.02\n",
    "              \n",
    "row = {}\n",
    "row['name'] = 'some telescopes'\n",
    "row['band'] = 'W2'\n",
    "row['resolution'] = 5.0\n",
    "row['relative'] = False\n",
    "row['separation'] = 0.\n",
    "row['pa'] = 0.\n",
    "row['mag'] = mag\n",
    "row['e_mag'] = e_mag\n",
    "df = df.append(pd.DataFrame(row, index=[1]))\n",
    "\n",
    "t = ObservationTree.from_df(df, name='First')\n",
    "t.define_models(dar)\n",
    "t.print_ascii()"
   ]
  },
  {
   "cell_type": "code",
   "execution_count": 237,
   "metadata": {
    "collapsed": true
   },
   "outputs": [],
   "source": [
    "mod = StarModel(dar, obs=t)"
   ]
  },
  {
   "cell_type": "code",
   "execution_count": 238,
   "metadata": {
    "collapsed": false
   },
   "outputs": [
    {
     "name": "stdout",
     "output_type": "stream",
     "text": [
      "The slowest run took 14.68 times longer than the fastest. This could mean that an intermediate result is being cached.\n",
      "10000 loops, best of 3: 113 µs per loop\n"
     ]
    }
   ],
   "source": [
    "%timeit mod.lnlike(p = [1.0,1.0,10,0.0,200,0.1],use_cache=False)"
   ]
  },
  {
   "cell_type": "code",
   "execution_count": 239,
   "metadata": {
    "collapsed": false
   },
   "outputs": [
    {
     "name": "stdout",
     "output_type": "stream",
     "text": [
      "First\n",
      " ╚═ some telescopes W1=(9.45, 0.02) @(0.00, 0 [5.00])\n",
      "    ╚═ some telescopes W2=(9.49, 0.02) @(0.00, 0 [5.00])\n",
      "       ╚═ twomass H=(9.53, 0.02) @(0.00, 0 [4.00])\n",
      "          ╚═ twomass J=(9.93, 0.02) @(0.00, 0 [4.00])\n",
      "             ╚═ twomass K=(9.48, 0.02) @(0.00, 0 [4.00])\n",
      "                ╚═ some telescopes r=(11.05, 0.01) @(0.00, 0 [3.50])\n",
      "                   ╠═ RAO i=(11.03, 0.10) @(0.00, 0 [0.10])\n",
      "                   ║  ╚═ 0_0\n",
      "                   ╚═ RAO i=(13.18, 0.10) @(0.50, 100 [0.10])\n",
      "                      ╚═ 0_1\n"
     ]
    }
   ],
   "source": [
    "mag = addmags(dar.mag['r'](M1, *args), dar.mag['r'](M2, *args))\n",
    "e_mag = 0.01\n",
    "              \n",
    "row = {}\n",
    "row['name'] = 'some telescopes'\n",
    "row['band'] = 'r'\n",
    "row['resolution'] = 3.5\n",
    "row['relative'] = False\n",
    "row['separation'] = 0.\n",
    "row['pa'] = 0.\n",
    "row['mag'] = mag\n",
    "row['e_mag'] = e_mag\n",
    "df = df.append(pd.DataFrame(row, index=[3]))\n",
    "\n",
    "t = ObservationTree.from_df(df, name='First')\n",
    "t.define_models(dar)\n",
    "t.print_ascii()"
   ]
  },
  {
   "cell_type": "code",
   "execution_count": 240,
   "metadata": {
    "collapsed": true
   },
   "outputs": [],
   "source": [
    "mod = StarModel(dar, obs=t)"
   ]
  },
  {
   "cell_type": "code",
   "execution_count": 241,
   "metadata": {
    "collapsed": false
   },
   "outputs": [
    {
     "name": "stdout",
     "output_type": "stream",
     "text": [
      "The slowest run took 14.76 times longer than the fastest. This could mean that an intermediate result is being cached.\n",
      "10000 loops, best of 3: 125 µs per loop\n"
     ]
    }
   ],
   "source": [
    "%timeit mod.lnlike(p = [1.0,1.0,10,0.0,200,0.1],use_cache=False)"
   ]
  },
  {
   "cell_type": "code",
   "execution_count": 242,
   "metadata": {
    "collapsed": false
   },
   "outputs": [
    {
     "name": "stdout",
     "output_type": "stream",
     "text": [
      "First\n",
      " ╚═ some telescopes W1=(9.45, 0.02) @(0.00, 0 [5.00])\n",
      "    ╚═ some telescopes W2=(9.49, 0.02) @(0.00, 0 [5.00])\n",
      "       ╚═ twomass H=(9.53, 0.02) @(0.00, 0 [4.00])\n",
      "          ╚═ twomass J=(9.93, 0.02) @(0.00, 0 [4.00])\n",
      "             ╚═ twomass K=(9.48, 0.02) @(0.00, 0 [4.00])\n",
      "                ╚═ some telescopes r=(11.05, 0.01) @(0.00, 0 [3.50])\n",
      "                   ╠═ some instruments z=(11.00, 0.02) @(0.00, 0 [0.15])\n",
      "                   ║  ╚═ RAO i=(11.03, 0.10) @(0.00, 0 [0.10])\n",
      "                   ║     ╚═ 0_0\n",
      "                   ╚═ some instruments z=(12.98, 0.02) @(0.50, 100 [0.15])\n",
      "                      ╚═ RAO i=(13.18, 0.10) @(0.50, 100 [0.10])\n",
      "                         ╚═ 0_1\n"
     ]
    }
   ],
   "source": [
    "resolved_1 = {'z':dar.mag['z'](M1, *args)}\n",
    "resolved_2 = {'z':dar.mag['z'](M2, *args)}\n",
    "e_mag = 0.02\n",
    "              \n",
    "mags = [resolved_1['z'], resolved_2['z']]\n",
    "pas = [0, PA]\n",
    "seps = [0., separation]\n",
    "for mag,sep,pa in zip(mags,seps,pas):\n",
    "    row = {}\n",
    "    row['name'] = 'some instruments'\n",
    "    row['band'] = 'z'\n",
    "    row['resolution'] = 0.15\n",
    "    row['relative'] = True\n",
    "    row['separation'] = sep\n",
    "    row['pa'] = pa\n",
    "    row['mag'] = mag\n",
    "    row['e_mag'] = e_mag\n",
    "    df = df.append(pd.DataFrame(row, index=[7]))\n",
    "\n",
    "t = ObservationTree.from_df(df, name='First')\n",
    "t.define_models(dar)\n",
    "t.print_ascii()"
   ]
  },
  {
   "cell_type": "code",
   "execution_count": 243,
   "metadata": {
    "collapsed": true
   },
   "outputs": [],
   "source": [
    "mod = StarModel(dar, obs=t)"
   ]
  },
  {
   "cell_type": "code",
   "execution_count": 244,
   "metadata": {
    "collapsed": false
   },
   "outputs": [
    {
     "name": "stdout",
     "output_type": "stream",
     "text": [
      "The slowest run took 14.64 times longer than the fastest. This could mean that an intermediate result is being cached.\n",
      "10000 loops, best of 3: 143 µs per loop\n"
     ]
    }
   ],
   "source": [
    "%timeit mod.lnlike(p = [1.0,1.0,10,0.0,200,0.1], use_cache=False)"
   ]
  },
  {
   "cell_type": "code",
   "execution_count": 245,
   "metadata": {
    "collapsed": false
   },
   "outputs": [
    {
     "name": "stdout",
     "output_type": "stream",
     "text": [
      "First\n",
      " ╚═ some telescopes W1=(9.45, 0.02) @(0.00, 0 [5.00])\n",
      "    ╚═ some telescopes W2=(9.49, 0.02) @(0.00, 0 [5.00])\n",
      "       ╚═ twomass H=(9.53, 0.02) @(0.00, 0 [4.00])\n",
      "          ╚═ twomass J=(9.93, 0.02) @(0.00, 0 [4.00])\n",
      "             ╚═ twomass K=(9.48, 0.02) @(0.00, 0 [4.00])\n",
      "                ╚═ some telescopes r=(11.05, 0.01) @(0.00, 0 [3.50])\n",
      "                   ╠═ some instruments z=(11.00, 0.02) @(0.00, 0 [0.15])\n",
      "                   ║  ╚═ RAO i=(11.03, 0.10) @(0.00, 0 [0.10])\n",
      "                   ║     ╚═ some instruments Kepler=(11.10, 0.01) @(0.00, 0 [0.10])\n",
      "                   ║        ╚═ 0_0\n",
      "                   ╚═ some instruments z=(12.98, 0.02) @(0.50, 100 [0.15])\n",
      "                      ╚═ RAO i=(13.18, 0.10) @(0.50, 100 [0.10])\n",
      "                         ╚═ some instruments Kepler=(13.52, 0.01) @(0.55, 95 [0.10])\n",
      "                            ╚═ 0_1\n"
     ]
    }
   ],
   "source": [
    "resolved_1 = {'Kepler':dar.mag['Kepler'](M1, *args)}\n",
    "resolved_2 = {'Kepler':dar.mag['Kepler'](M2, *args)}\n",
    "e_mag = 0.01\n",
    "              \n",
    "mags = [resolved_1['Kepler'], resolved_2['Kepler']]\n",
    "pas = [0, 95]\n",
    "seps = [0., 0.55]\n",
    "for mag,sep,pa in zip(mags,seps,pas):\n",
    "    row = {}\n",
    "    row['name'] = 'some instruments'\n",
    "    row['band'] = 'Kepler'\n",
    "    row['resolution'] = 0.1\n",
    "    row['relative'] = True\n",
    "    row['separation'] = sep\n",
    "    row['pa'] = pa\n",
    "    row['mag'] = mag\n",
    "    row['e_mag'] = e_mag\n",
    "    df = df.append(pd.DataFrame(row, index=[11]))\n",
    "\n",
    "t = ObservationTree.from_df(df, name='First')\n",
    "t.define_models(dar)\n",
    "t.print_ascii()"
   ]
  },
  {
   "cell_type": "code",
   "execution_count": 246,
   "metadata": {
    "collapsed": false
   },
   "outputs": [],
   "source": [
    "mod = StarModel(dar, obs=t)"
   ]
  },
  {
   "cell_type": "code",
   "execution_count": 247,
   "metadata": {
    "collapsed": false
   },
   "outputs": [
    {
     "name": "stdout",
     "output_type": "stream",
     "text": [
      "The slowest run took 14.54 times longer than the fastest. This could mean that an intermediate result is being cached.\n",
      "10000 loops, best of 3: 163 µs per loop\n"
     ]
    }
   ],
   "source": [
    "%timeit mod.lnlike(p = [1.0,1.0,10,0.0,200,0.1], use_cache=False)"
   ]
  },
  {
   "cell_type": "code",
   "execution_count": 248,
   "metadata": {
    "collapsed": false
   },
   "outputs": [
    {
     "name": "stdout",
     "output_type": "stream",
     "text": [
      "First\n",
      " ╚═ some telescopes W1=(9.45, 0.02) @(0.00, 0 [5.00])\n",
      "    ╚═ some telescopes W2=(9.49, 0.02) @(0.00, 0 [5.00])\n",
      "       ╚═ twomass H=(9.53, 0.02) @(0.00, 0 [4.00])\n",
      "          ╚═ twomass J=(9.93, 0.02) @(0.00, 0 [4.00])\n",
      "             ╚═ twomass K=(9.48, 0.02) @(0.00, 0 [4.00])\n",
      "                ╚═ some telescopes r=(11.05, 0.01) @(0.00, 0 [3.50])\n",
      "                   ╠═ some instruments z=(11.00, 0.02) @(0.00, 0 [0.15])\n",
      "                   ║  ╚═ RAO i=(11.03, 0.10) @(0.00, 0 [0.10])\n",
      "                   ║     ╚═ some instruments Kepler=(11.10, 0.01) @(0.00, 0 [0.10])\n",
      "                   ║        ╚═ some instruments g=(11.69, 0.02) @(0.00, 0 [0.09])\n",
      "                   ║           ╚═ 0_0\n",
      "                   ╚═ some instruments z=(12.98, 0.02) @(0.50, 100 [0.15])\n",
      "                      ╚═ RAO i=(13.18, 0.10) @(0.50, 100 [0.10])\n",
      "                         ╚═ some instruments Kepler=(13.52, 0.01) @(0.55, 95 [0.10])\n",
      "                            ╚═ some instruments g=(14.77, 0.02) @(0.54, 96 [0.09])\n",
      "                               ╚═ 0_1\n"
     ]
    }
   ],
   "source": [
    "resolved_1 = {'g':dar.mag['g'](M1, *args)}\n",
    "resolved_2 = {'g':dar.mag['g'](M2, *args)}\n",
    "e_mag = 0.02\n",
    "              \n",
    "mags = [resolved_1['g'], resolved_2['g']]\n",
    "pas = [0, 96]\n",
    "seps = [0., 0.54]\n",
    "for mag,sep,pa in zip(mags,seps,pas):\n",
    "    row = {}\n",
    "    row['name'] = 'some instruments'\n",
    "    row['band'] = 'g'\n",
    "    row['resolution'] = 0.09\n",
    "    row['relative'] = True\n",
    "    row['separation'] = sep\n",
    "    row['pa'] = pa\n",
    "    row['mag'] = mag\n",
    "    row['e_mag'] = e_mag\n",
    "    df = df.append(pd.DataFrame(row, index=[13]))\n",
    "\n",
    "t = ObservationTree.from_df(df, name='First')\n",
    "t.define_models(dar)\n",
    "t.print_ascii()"
   ]
  },
  {
   "cell_type": "code",
   "execution_count": 249,
   "metadata": {
    "collapsed": true
   },
   "outputs": [],
   "source": [
    "mod = StarModel(dar, obs=t)"
   ]
  },
  {
   "cell_type": "code",
   "execution_count": 250,
   "metadata": {
    "collapsed": false
   },
   "outputs": [
    {
     "name": "stdout",
     "output_type": "stream",
     "text": [
      "The slowest run took 14.58 times longer than the fastest. This could mean that an intermediate result is being cached.\n",
      "10000 loops, best of 3: 181 µs per loop\n"
     ]
    }
   ],
   "source": [
    "%timeit mod.lnlike(p = [1.0,1.0,10,0.0,200,0.1], use_cache=False)"
   ]
  },
  {
   "cell_type": "code",
   "execution_count": 251,
   "metadata": {
    "collapsed": true
   },
   "outputs": [],
   "source": [
    "%matplotlib inline\n",
    "import matplotlib.pyplot as plt"
   ]
  },
  {
   "cell_type": "code",
   "execution_count": 254,
   "metadata": {
    "collapsed": false
   },
   "outputs": [],
   "source": [
    "x = range(4,11,1)\n",
    "y = [88.5,101,113,125,143,163,181]"
   ]
  },
  {
   "cell_type": "code",
   "execution_count": 259,
   "metadata": {
    "collapsed": false
   },
   "outputs": [
    {
     "data": {
      "text/plain": [
       "<matplotlib.text.Text at 0x7fa511c6df90>"
      ]
     },
     "execution_count": 259,
     "metadata": {},
     "output_type": "execute_result"
    },
    {
     "data": {
      "image/png": "[encoded data removed]",
      "text/plain": [
       "<matplotlib.figure.Figure at 0x7fa511fd6d50>"
      ]
     },
     "metadata": {},
     "output_type": "display_data"
    }
   ],
   "source": [
    "plt.scatter(x,y)\n",
    "plt.xlabel('numbers of nodes')\n",
    "plt.ylabel(r'time($\\mu$s)')\n",
    "plt.title('time it takes to run lnlike method vs nodes')"
   ]
  },
  {
   "cell_type": "code",
   "execution_count": null,
   "metadata": {
    "collapsed": true
   },
   "outputs": [],
   "source": []
  }
 ],
 "metadata": {
  "kernelspec": {
   "display_name": "Python 2",
   "language": "python",
   "name": "python2"
  },
  "language_info": {
   "codemirror_mode": {
    "name": "ipython",
    "version": 2
   },
   "file_extension": ".py",
   "mimetype": "text/x-python",
   "name": "python",
   "nbconvert_exporter": "python",
   "pygments_lexer": "ipython2",
   "version": "2.7.12"
  }
 },
 "nbformat": 4,
 "nbformat_minor": 0
}
